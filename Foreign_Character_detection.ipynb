{
 "cells": [
  {
   "cell_type": "markdown",
   "metadata": {},
   "source": [
    "# HW 3 :  team  Piyawan ( Jeannie )  and Ayada\n",
    "*12th October, 2016*"
   ]
  },
  {
   "cell_type": "code",
   "execution_count": 1,
   "metadata": {
    "collapsed": false
   },
   "outputs": [
    {
     "name": "stdout",
     "output_type": "stream",
     "text": [
      "The scikit-learn version is 0.19.dev0.\n"
     ]
    }
   ],
   "source": [
    "import sklearn\n",
    "print('The scikit-learn version is {}.'.format(sklearn.__version__))"
   ]
  },
  {
   "cell_type": "code",
   "execution_count": 37,
   "metadata": {
    "collapsed": false
   },
   "outputs": [
    {
     "name": "stderr",
     "output_type": "stream",
     "text": [
      "/Applications/Anaconda/anaconda/envs/py35/lib/python3.5/site-packages/sklearn/grid_search.py:43: DeprecationWarning: This module was deprecated in version 0.18 in favor of the model_selection module into which all the refactored classes and functions are moved. This module will be removed in 0.20.\n",
      "  DeprecationWarning)\n"
     ]
    }
   ],
   "source": [
    "\n",
    "%matplotlib inline \n",
    "import time\n",
    "\n",
    "import pandas as pd\n",
    "import numpy as np\n",
    "from sklearn.ensemble import RandomForestClassifier\n",
    "from sklearn.preprocessing import label_binarize\n",
    "from sklearn.multiclass import OneVsRestClassifier\n",
    "from sklearn.metrics import roc_curve, auc\n",
    "from sklearn.linear_model import LogisticRegression\n",
    "from sklearn import metrics\n",
    "import sklearn.metrics as sm\n",
    "from sklearn.svm import SVC \n",
    "import sklearn.linear_model\n",
    "from sklearn import grid_search\n",
    "import sklearn.svm\n",
    "from sklearn.neural_network import MLPClassifier\n",
    "from sklearn.model_selection import cross_val_score\n",
    "from sklearn.model_selection import KFold\n",
    "from sklearn.feature_selection import SelectPercentile\n",
    "\n",
    "from sklearn.feature_selection import SelectFromModel\n",
    "from sklearn.ensemble import RandomForestClassifier\n",
    "\n",
    "from sklearn import cross_validation\n",
    "from sklearn.cross_validation import train_test_split\n",
    "\n",
    "from sklearn.preprocessing import StandardScaler\n",
    "\n",
    "from sklearn.neighbors import KNeighborsClassifier\n",
    "\n",
    "import matplotlib.pyplot as plt\n",
    "from sklearn import datasets\n",
    "from sklearn import svm\n",
    "from datetime import datetime"
   ]
  },
  {
   "cell_type": "markdown",
   "metadata": {},
   "source": [
    "# Step 1 :  Reading Files"
   ]
  },
  {
   "cell_type": "code",
   "execution_count": 5,
   "metadata": {
    "collapsed": false
   },
   "outputs": [
    {
     "name": "stdout",
     "output_type": "stream",
     "text": [
      "17378\n",
      "17378\n"
     ]
    }
   ],
   "source": [
    "#Reading files ( sample )\n",
    "X = pd.read_csv(\"trainingData.txt\",sep='\\t',header=None)\n",
    "Y = pd.read_csv(\"trainingTruth.txt\",sep='\\t',header=None)\n",
    "Y = np.array(Y).ravel()\n",
    "print(len(Y))\n",
    "print(len(X))"
   ]
  },
  {
   "cell_type": "markdown",
   "metadata": {},
   "source": [
    "##  1.1  Manage null values"
   ]
  },
  {
   "cell_type": "code",
   "execution_count": 6,
   "metadata": {
    "collapsed": false
   },
   "outputs": [
    {
     "name": "stdout",
     "output_type": "stream",
     "text": [
      "df.shape (17378, 334)\n"
     ]
    }
   ],
   "source": [
    "df = X\n",
    "print(\"df.shape\",df.shape)"
   ]
  },
  {
   "cell_type": "markdown",
   "metadata": {},
   "source": [
    "### 1.1.1 Looking for big nulls in each feature\n",
    "         - Theory : If there is too many nulls in a feature, then that feature is useless\n",
    "         - Result : biggest null value in each columne is only 81 from 17378 rows , thus we keep all features"
   ]
  },
  {
   "cell_type": "code",
   "execution_count": 7,
   "metadata": {
    "collapsed": false
   },
   "outputs": [
    {
     "name": "stderr",
     "output_type": "stream",
     "text": [
      "/Applications/Anaconda/anaconda/envs/py35/lib/python3.5/site-packages/ipykernel/__main__.py:2: FutureWarning: order is deprecated, use sort_values(...)\n",
      "  from ipykernel import kernelapp as app\n"
     ]
    },
    {
     "data": {
      "text/plain": [
       "9      81\n",
       "322    81\n",
       "239    78\n",
       "280    78\n",
       "144    75\n",
       "dtype: int64"
      ]
     },
     "execution_count": 7,
     "metadata": {},
     "output_type": "execute_result"
    }
   ],
   "source": [
    "# See if there is big na in any column\n",
    "testNulldf = df.isnull().sum().order(ascending=False)\n",
    "testNulldf.head()"
   ]
  },
  {
   "cell_type": "markdown",
   "metadata": {},
   "source": [
    "### 1.1.2  Imputation "
   ]
  },
  {
   "cell_type": "markdown",
   "metadata": {},
   "source": [
    "#### * 1.1.2.1 Replace null with Zero*\n",
    "        Trying out multiple approaches for the imputation.\n",
    "        - zero_df : nulls are filled with 0, a constant value across the data frame\n",
    "        - mean_df : nulls are filled with mean of the feature.\n",
    "        - median_df : nulls are filled with median value of the feature\n",
    "        - pad_df : nulls are padded with surrounding values"
   ]
  },
  {
   "cell_type": "code",
   "execution_count": 11,
   "metadata": {
    "collapsed": true
   },
   "outputs": [],
   "source": [
    "zero_df = df.fillna(0)"
   ]
  },
  {
   "cell_type": "markdown",
   "metadata": {},
   "source": [
    "####  *1.1.2.2 Replace null with Mean*"
   ]
  },
  {
   "cell_type": "code",
   "execution_count": 12,
   "metadata": {
    "collapsed": true
   },
   "outputs": [],
   "source": [
    "mean_df = df.fillna(df.mean())"
   ]
  },
  {
   "cell_type": "markdown",
   "metadata": {},
   "source": [
    "####  *1.1.2.3 Replace null with Median*"
   ]
  },
  {
   "cell_type": "code",
   "execution_count": 18,
   "metadata": {
    "collapsed": true
   },
   "outputs": [],
   "source": [
    "median_df = df.fillna(df.median())"
   ]
  },
  {
   "cell_type": "markdown",
   "metadata": {},
   "source": [
    "####   *1.1.2.4 Replace null with its neighbour*"
   ]
  },
  {
   "cell_type": "code",
   "execution_count": 13,
   "metadata": {
    "collapsed": true
   },
   "outputs": [],
   "source": [
    "pad_df = df.fillna(method='pad')"
   ]
  },
  {
   "cell_type": "markdown",
   "metadata": {},
   "source": [
    "####   *1.1.2.5  Apply standardized*\n",
    "          Normalizing the data frame using mean and std. Deviation"
   ]
  },
  {
   "cell_type": "code",
   "execution_count": 14,
   "metadata": {
    "collapsed": true
   },
   "outputs": [],
   "source": [
    "standardized_df = (df - df.mean(axis=0))/  df.std(axis=0)"
   ]
  },
  {
   "cell_type": "markdown",
   "metadata": {},
   "source": [
    "####   *1.1.2.6  Apply Log*"
   ]
  },
  {
   "cell_type": "code",
   "execution_count": 15,
   "metadata": {
    "collapsed": true
   },
   "outputs": [],
   "source": [
    "log_df =  df.apply(np.log1p)"
   ]
  },
  {
   "cell_type": "markdown",
   "metadata": {},
   "source": [
    "## 1.2 Outliners\n",
    "     - Theory : If there is too many nulls in a feature, then that feature is useless\n",
    "     - Assumption : Each feature is normally distributed and keeping data with only 3 "
   ]
  },
  {
   "cell_type": "code",
   "execution_count": 16,
   "metadata": {
    "collapsed": false
   },
   "outputs": [],
   "source": [
    "df_nooutliers = pd.DataFrame( np.where( np.abs(df) > df.mean(), df.median() , df ), columns=df.columns )"
   ]
  },
  {
   "cell_type": "markdown",
   "metadata": {},
   "source": [
    "## 1.3 Observing data"
   ]
  },
  {
   "cell_type": "code",
   "execution_count": 19,
   "metadata": {
    "collapsed": false
   },
   "outputs": [
    {
     "data": {
      "text/html": [
       "<div>\n",
       "<table border=\"1\" class=\"dataframe\">\n",
       "  <thead>\n",
       "    <tr style=\"text-align: right;\">\n",
       "      <th></th>\n",
       "      <th>0</th>\n",
       "      <th>1</th>\n",
       "      <th>2</th>\n",
       "      <th>3</th>\n",
       "      <th>4</th>\n",
       "      <th>5</th>\n",
       "      <th>6</th>\n",
       "      <th>7</th>\n",
       "      <th>8</th>\n",
       "      <th>9</th>\n",
       "      <th>...</th>\n",
       "      <th>324</th>\n",
       "      <th>325</th>\n",
       "      <th>326</th>\n",
       "      <th>327</th>\n",
       "      <th>328</th>\n",
       "      <th>329</th>\n",
       "      <th>330</th>\n",
       "      <th>331</th>\n",
       "      <th>332</th>\n",
       "      <th>333</th>\n",
       "    </tr>\n",
       "  </thead>\n",
       "  <tbody>\n",
       "    <tr>\n",
       "      <th>count</th>\n",
       "      <td>17378.000000</td>\n",
       "      <td>17378.000000</td>\n",
       "      <td>17378.000000</td>\n",
       "      <td>17378.000000</td>\n",
       "      <td>17378.000000</td>\n",
       "      <td>17378.000000</td>\n",
       "      <td>17378.000000</td>\n",
       "      <td>17378.000000</td>\n",
       "      <td>17378.000000</td>\n",
       "      <td>17378.000000</td>\n",
       "      <td>...</td>\n",
       "      <td>17378.000000</td>\n",
       "      <td>17378.000000</td>\n",
       "      <td>17378.000000</td>\n",
       "      <td>17378.000000</td>\n",
       "      <td>17378.000000</td>\n",
       "      <td>17378.000000</td>\n",
       "      <td>17378.000000</td>\n",
       "      <td>17378.000000</td>\n",
       "      <td>17378.000000</td>\n",
       "      <td>17378.000000</td>\n",
       "    </tr>\n",
       "    <tr>\n",
       "      <th>mean</th>\n",
       "      <td>0.264561</td>\n",
       "      <td>0.456582</td>\n",
       "      <td>0.435143</td>\n",
       "      <td>0.263298</td>\n",
       "      <td>0.496518</td>\n",
       "      <td>0.356891</td>\n",
       "      <td>0.362954</td>\n",
       "      <td>0.275142</td>\n",
       "      <td>0.423000</td>\n",
       "      <td>0.454493</td>\n",
       "      <td>...</td>\n",
       "      <td>0.448364</td>\n",
       "      <td>0.481284</td>\n",
       "      <td>0.277806</td>\n",
       "      <td>0.333313</td>\n",
       "      <td>0.474397</td>\n",
       "      <td>0.273563</td>\n",
       "      <td>0.447126</td>\n",
       "      <td>0.487142</td>\n",
       "      <td>0.267614</td>\n",
       "      <td>0.389979</td>\n",
       "    </tr>\n",
       "    <tr>\n",
       "      <th>std</th>\n",
       "      <td>0.455194</td>\n",
       "      <td>0.512302</td>\n",
       "      <td>0.508480</td>\n",
       "      <td>0.451345</td>\n",
       "      <td>0.512481</td>\n",
       "      <td>0.494936</td>\n",
       "      <td>0.497232</td>\n",
       "      <td>0.463225</td>\n",
       "      <td>0.502766</td>\n",
       "      <td>0.512201</td>\n",
       "      <td>...</td>\n",
       "      <td>0.511349</td>\n",
       "      <td>0.519878</td>\n",
       "      <td>0.459788</td>\n",
       "      <td>0.484340</td>\n",
       "      <td>0.517393</td>\n",
       "      <td>0.459233</td>\n",
       "      <td>0.512634</td>\n",
       "      <td>0.511159</td>\n",
       "      <td>0.455598</td>\n",
       "      <td>0.503117</td>\n",
       "    </tr>\n",
       "    <tr>\n",
       "      <th>min</th>\n",
       "      <td>-1.560800</td>\n",
       "      <td>-1.506400</td>\n",
       "      <td>-1.399000</td>\n",
       "      <td>-1.488200</td>\n",
       "      <td>-1.442100</td>\n",
       "      <td>-1.306400</td>\n",
       "      <td>-1.884400</td>\n",
       "      <td>-1.721200</td>\n",
       "      <td>-1.444100</td>\n",
       "      <td>-1.578400</td>\n",
       "      <td>...</td>\n",
       "      <td>-1.448600</td>\n",
       "      <td>-1.398600</td>\n",
       "      <td>-1.570100</td>\n",
       "      <td>-1.847300</td>\n",
       "      <td>-1.626700</td>\n",
       "      <td>-1.865800</td>\n",
       "      <td>-1.403600</td>\n",
       "      <td>-1.628900</td>\n",
       "      <td>-1.696800</td>\n",
       "      <td>-1.466600</td>\n",
       "    </tr>\n",
       "    <tr>\n",
       "      <th>25%</th>\n",
       "      <td>-0.043575</td>\n",
       "      <td>0.106125</td>\n",
       "      <td>0.090225</td>\n",
       "      <td>-0.038925</td>\n",
       "      <td>0.145875</td>\n",
       "      <td>0.020900</td>\n",
       "      <td>0.023125</td>\n",
       "      <td>-0.033900</td>\n",
       "      <td>0.084350</td>\n",
       "      <td>0.098025</td>\n",
       "      <td>...</td>\n",
       "      <td>0.095100</td>\n",
       "      <td>0.127750</td>\n",
       "      <td>-0.029200</td>\n",
       "      <td>0.008125</td>\n",
       "      <td>0.109625</td>\n",
       "      <td>-0.038300</td>\n",
       "      <td>0.100400</td>\n",
       "      <td>0.134100</td>\n",
       "      <td>-0.039325</td>\n",
       "      <td>0.044350</td>\n",
       "    </tr>\n",
       "    <tr>\n",
       "      <th>50%</th>\n",
       "      <td>0.261400</td>\n",
       "      <td>0.452100</td>\n",
       "      <td>0.429050</td>\n",
       "      <td>0.262950</td>\n",
       "      <td>0.499500</td>\n",
       "      <td>0.347450</td>\n",
       "      <td>0.352700</td>\n",
       "      <td>0.274400</td>\n",
       "      <td>0.415450</td>\n",
       "      <td>0.447800</td>\n",
       "      <td>...</td>\n",
       "      <td>0.442800</td>\n",
       "      <td>0.482100</td>\n",
       "      <td>0.277200</td>\n",
       "      <td>0.318700</td>\n",
       "      <td>0.472900</td>\n",
       "      <td>0.271650</td>\n",
       "      <td>0.437200</td>\n",
       "      <td>0.479750</td>\n",
       "      <td>0.264200</td>\n",
       "      <td>0.382200</td>\n",
       "    </tr>\n",
       "    <tr>\n",
       "      <th>75%</th>\n",
       "      <td>0.567975</td>\n",
       "      <td>0.798000</td>\n",
       "      <td>0.779375</td>\n",
       "      <td>0.562600</td>\n",
       "      <td>0.844300</td>\n",
       "      <td>0.684075</td>\n",
       "      <td>0.693100</td>\n",
       "      <td>0.585200</td>\n",
       "      <td>0.760375</td>\n",
       "      <td>0.802675</td>\n",
       "      <td>...</td>\n",
       "      <td>0.798675</td>\n",
       "      <td>0.836675</td>\n",
       "      <td>0.584700</td>\n",
       "      <td>0.652475</td>\n",
       "      <td>0.831375</td>\n",
       "      <td>0.584375</td>\n",
       "      <td>0.793350</td>\n",
       "      <td>0.840700</td>\n",
       "      <td>0.572025</td>\n",
       "      <td>0.726225</td>\n",
       "    </tr>\n",
       "    <tr>\n",
       "      <th>max</th>\n",
       "      <td>2.054600</td>\n",
       "      <td>2.519100</td>\n",
       "      <td>2.413700</td>\n",
       "      <td>2.129900</td>\n",
       "      <td>2.335800</td>\n",
       "      <td>2.251800</td>\n",
       "      <td>2.335600</td>\n",
       "      <td>2.086000</td>\n",
       "      <td>2.452100</td>\n",
       "      <td>2.486900</td>\n",
       "      <td>...</td>\n",
       "      <td>2.433600</td>\n",
       "      <td>2.372700</td>\n",
       "      <td>2.028400</td>\n",
       "      <td>2.522400</td>\n",
       "      <td>2.303300</td>\n",
       "      <td>2.020800</td>\n",
       "      <td>2.578200</td>\n",
       "      <td>2.407200</td>\n",
       "      <td>2.070000</td>\n",
       "      <td>2.387100</td>\n",
       "    </tr>\n",
       "  </tbody>\n",
       "</table>\n",
       "<p>8 rows × 334 columns</p>\n",
       "</div>"
      ],
      "text/plain": [
       "                0             1             2             3             4    \\\n",
       "count  17378.000000  17378.000000  17378.000000  17378.000000  17378.000000   \n",
       "mean       0.264561      0.456582      0.435143      0.263298      0.496518   \n",
       "std        0.455194      0.512302      0.508480      0.451345      0.512481   \n",
       "min       -1.560800     -1.506400     -1.399000     -1.488200     -1.442100   \n",
       "25%       -0.043575      0.106125      0.090225     -0.038925      0.145875   \n",
       "50%        0.261400      0.452100      0.429050      0.262950      0.499500   \n",
       "75%        0.567975      0.798000      0.779375      0.562600      0.844300   \n",
       "max        2.054600      2.519100      2.413700      2.129900      2.335800   \n",
       "\n",
       "                5             6             7             8             9    \\\n",
       "count  17378.000000  17378.000000  17378.000000  17378.000000  17378.000000   \n",
       "mean       0.356891      0.362954      0.275142      0.423000      0.454493   \n",
       "std        0.494936      0.497232      0.463225      0.502766      0.512201   \n",
       "min       -1.306400     -1.884400     -1.721200     -1.444100     -1.578400   \n",
       "25%        0.020900      0.023125     -0.033900      0.084350      0.098025   \n",
       "50%        0.347450      0.352700      0.274400      0.415450      0.447800   \n",
       "75%        0.684075      0.693100      0.585200      0.760375      0.802675   \n",
       "max        2.251800      2.335600      2.086000      2.452100      2.486900   \n",
       "\n",
       "           ...                324           325           326           327  \\\n",
       "count      ...       17378.000000  17378.000000  17378.000000  17378.000000   \n",
       "mean       ...           0.448364      0.481284      0.277806      0.333313   \n",
       "std        ...           0.511349      0.519878      0.459788      0.484340   \n",
       "min        ...          -1.448600     -1.398600     -1.570100     -1.847300   \n",
       "25%        ...           0.095100      0.127750     -0.029200      0.008125   \n",
       "50%        ...           0.442800      0.482100      0.277200      0.318700   \n",
       "75%        ...           0.798675      0.836675      0.584700      0.652475   \n",
       "max        ...           2.433600      2.372700      2.028400      2.522400   \n",
       "\n",
       "                328           329           330           331           332  \\\n",
       "count  17378.000000  17378.000000  17378.000000  17378.000000  17378.000000   \n",
       "mean       0.474397      0.273563      0.447126      0.487142      0.267614   \n",
       "std        0.517393      0.459233      0.512634      0.511159      0.455598   \n",
       "min       -1.626700     -1.865800     -1.403600     -1.628900     -1.696800   \n",
       "25%        0.109625     -0.038300      0.100400      0.134100     -0.039325   \n",
       "50%        0.472900      0.271650      0.437200      0.479750      0.264200   \n",
       "75%        0.831375      0.584375      0.793350      0.840700      0.572025   \n",
       "max        2.303300      2.020800      2.578200      2.407200      2.070000   \n",
       "\n",
       "                333  \n",
       "count  17378.000000  \n",
       "mean       0.389979  \n",
       "std        0.503117  \n",
       "min       -1.466600  \n",
       "25%        0.044350  \n",
       "50%        0.382200  \n",
       "75%        0.726225  \n",
       "max        2.387100  \n",
       "\n",
       "[8 rows x 334 columns]"
      ]
     },
     "execution_count": 19,
     "metadata": {},
     "output_type": "execute_result"
    }
   ],
   "source": [
    "median_df.describe()"
   ]
  },
  {
   "cell_type": "markdown",
   "metadata": {},
   "source": [
    "## 1.4 Cross validation \n",
    "      - select median after tried other imputed data above e.g zero_df ,mean_df , median_df gave best result\n",
    "      - Split into training and test set, where the latter is 15% of the total=>return best score after evaluation \n",
    " "
   ]
  },
  {
   "cell_type": "code",
   "execution_count": 24,
   "metadata": {
    "collapsed": false
   },
   "outputs": [
    {
     "name": "stdout",
     "output_type": "stream",
     "text": [
      "(17378, 334) (14771, 334) (2607, 334) (2607,)\n"
     ]
    }
   ],
   "source": [
    "\n",
    "X = median_df\n",
    "X_train, X_test, Y_train, Y_test = train_test_split(X, Y, test_size=.15, random_state=10) \n",
    "print (X.shape, X_train.shape, X_test.shape, Y_test.shape)\n"
   ]
  },
  {
   "cell_type": "markdown",
   "metadata": {},
   "source": [
    "## 1.5 Stadardized data\n",
    " - split data first\n",
    " - apply standardize to each dataset"
   ]
  },
  {
   "cell_type": "code",
   "execution_count": 25,
   "metadata": {
    "collapsed": false
   },
   "outputs": [],
   "source": [
    "# split X and y into training and testing sets\n",
    "\n",
    "std_scale = StandardScaler().fit(X_train)\n",
    "X_train = std_scale.transform(X_train)\n",
    "X_test = std_scale.transform(X_test)\n"
   ]
  },
  {
   "cell_type": "code",
   "execution_count": 26,
   "metadata": {
    "collapsed": false
   },
   "outputs": [],
   "source": [
    "\n",
    "X_train_log = np.log(X_train)\n",
    "X_test_log = np.log(X_test)\n"
   ]
  },
  {
   "cell_type": "markdown",
   "metadata": {},
   "source": [
    "### Features selection : percentile 95% best features\n",
    "        - Here we are using SelectPercentile() to select the best 95% features from the entire input space\n",
    "        - Notice in the X_train_selected that the above function returns 317 key features from space of 334 features "
   ]
  },
  {
   "cell_type": "code",
   "execution_count": 27,
   "metadata": {
    "collapsed": false
   },
   "outputs": [
    {
     "name": "stdout",
     "output_type": "stream",
     "text": [
      "X_train.shape: (14771, 334)\n",
      "X_train_selected.shape: (14771, 317)\n"
     ]
    }
   ],
   "source": [
    "# use f_classif (the default) and SelectPercentile to select best 95% of features\n",
    "select = SelectPercentile(percentile=95)\n",
    "select.fit(X_train, Y_train)\n",
    "\n",
    "# transform training set\n",
    "X_train_selected = select.transform(X_train)\n",
    "\n",
    "print(\"X_train.shape: {}\".format(X_train.shape))\n",
    "print(\"X_train_selected.shape: {}\".format(X_train_selected.shape))\n",
    "\n",
    "# transform test data\n",
    "X_test_selected = select.transform(X_test)"
   ]
  },
  {
   "cell_type": "markdown",
   "metadata": {},
   "source": [
    "### Features selections : model based : with RandomForest  to find best features\n",
    "        - This is another feature engineering effort to predict best features based on the output from RandomForest  classifier. The transform() selects the best 167 features based on the median threshold specified in the model"
   ]
  },
  {
   "cell_type": "code",
   "execution_count": 28,
   "metadata": {
    "collapsed": false
   },
   "outputs": [
    {
     "name": "stdout",
     "output_type": "stream",
     "text": [
      "start .. \n",
      "X_train.shape: (14771, 334)\n",
      "X_train_l1.shape: (14771, 167)\n"
     ]
    }
   ],
   "source": [
    "print(\"start .. \")\n",
    "select = SelectFromModel(\n",
    "    RandomForestClassifier(n_estimators=100, random_state=42),\n",
    "    threshold=\"median\")\n",
    "select.fit(X_train, Y_train)\n",
    "X_train_l1 = select.transform(X_train)\n",
    "print(\"X_train.shape: {}\".format(X_train.shape))\n",
    "print(\"X_train_l1.shape: {}\".format(X_train_l1.shape))\n",
    "X_test_l1 = select.transform(X_test)"
   ]
  },
  {
   "cell_type": "markdown",
   "metadata": {},
   "source": [
    "### Features selections : with RandomForest feature .25 median\n",
    "        - The same model with threshold of 0.25*median returns the entire input space"
   ]
  },
  {
   "cell_type": "code",
   "execution_count": 143,
   "metadata": {
    "collapsed": false
   },
   "outputs": [
    {
     "name": "stdout",
     "output_type": "stream",
     "text": [
      "start .. \n",
      "X_train.shape: (14771, 334)\n",
      "X_train_l1.shape: (14771, 334)\n"
     ]
    }
   ],
   "source": [
    "print(\"start .. \")\n",
    "select = SelectFromModel(\n",
    "    RandomForestClassifier(n_estimators=100, random_state=42),\n",
    "    threshold=\".25*median\")\n",
    "select.fit(X_train, Y_train)\n",
    "X_train_l1 = select.transform(X_train)\n",
    "print(\"X_train.shape: {}\".format(X_train.shape))\n",
    "print(\"X_train_l1.shape: {}\".format(X_train_l1.shape))\n",
    "X_test_l1 = select.transform(X_test)"
   ]
  },
  {
   "cell_type": "markdown",
   "metadata": {},
   "source": [
    "### Plot ROC "
   ]
  },
  {
   "cell_type": "code",
   "execution_count": 31,
   "metadata": {
    "collapsed": true
   },
   "outputs": [],
   "source": [
    "\n",
    "#plotROC method to plot the ROC Curve \n",
    "def plotRoc(fpr, tpr):\n",
    "    plt.figure()\n",
    "    lw = 2\n",
    "    for i in range(4):\n",
    "        plt.plot(fpr[i], tpr[i])\n",
    "    #plt.plot(fpr[2], tpr[2])\n",
    "    plt.plot([0, 1], [0, 1], color='navy', lw=lw, linestyle='--')\n",
    "    plt.xlim([0.0, 1.0])\n",
    "    plt.ylim([0.0, 1.05])\n",
    "    plt.xlabel('False Positive Rate')\n",
    "    plt.ylabel('True Positive Rate')\n",
    "    plt.title('Receiver operating characteristic example')\n",
    "    plt.legend(loc=\"lower right\")\n",
    "    plt.show()"
   ]
  },
  {
   "cell_type": "markdown",
   "metadata": {},
   "source": [
    "### RandomForest Classifier"
   ]
  },
  {
   "cell_type": "code",
   "execution_count": 33,
   "metadata": {
    "collapsed": false
   },
   "outputs": [],
   "source": [
    "\n",
    "def random(_n_estimators):\n",
    "    print(\"start random ...\")\n",
    "    clf = OneVsRestClassifier(RandomForestClassifier(n_estimators = _n_estimators,random_state=5))\n",
    "    clf.fit(X_train,Y_train)\n",
    "    Y_predict = clf.predict_proba(X_test)\n",
    "    Y_predict = pd.DataFrame(Y_predict)\n",
    "    Y_predict = Y_predict.fillna(0)\n",
    "    return Y_predict\n"
   ]
  },
  {
   "cell_type": "markdown",
   "metadata": {},
   "source": [
    "### Perform the model evaluation with ROC Plot"
   ]
  },
  {
   "cell_type": "code",
   "execution_count": 34,
   "metadata": {
    "collapsed": false
   },
   "outputs": [
    {
     "name": "stdout",
     "output_type": "stream",
     "text": [
      "Begin time is  2016-10-12 21:35:34.051779\n",
      "start..perform..\n",
      "start random ...\n",
      "{0: 0.71338498430770492, 1: 0.56563414085352148, 2: 0.67066017734310235, 3: 0.5501376302673312}\n"
     ]
    },
    {
     "name": "stderr",
     "output_type": "stream",
     "text": [
      "/Applications/Anaconda/anaconda/envs/py35/lib/python3.5/site-packages/matplotlib/axes/_axes.py:519: UserWarning: No labelled objects found. Use label='...' kwarg on individual plots.\n",
      "  warnings.warn(\"No labelled objects found. \"\n"
     ]
    },
    {
     "data": {
      "image/png": "[encoded data removed]",
      "text/plain": [
       "<matplotlib.figure.Figure at 0x10f242be0>"
      ]
     },
     "metadata": {},
     "output_type": "display_data"
    },
    {
     "name": "stdout",
     "output_type": "stream",
     "text": [
      "start..perform..\n",
      "start random ...\n",
      "{0: 0.87705935899351928, 1: 0.67046467828362366, 2: 0.84468474826914031, 3: 0.61156094245582238}\n"
     ]
    },
    {
     "name": "stderr",
     "output_type": "stream",
     "text": [
      "/Applications/Anaconda/anaconda/envs/py35/lib/python3.5/site-packages/matplotlib/axes/_axes.py:519: UserWarning: No labelled objects found. Use label='...' kwarg on individual plots.\n",
      "  warnings.warn(\"No labelled objects found. \"\n"
     ]
    },
    {
     "data": {
      "image/png": "[encoded data removed]",
      "text/plain": [
       "<matplotlib.figure.Figure at 0x10f27c128>"
      ]
     },
     "metadata": {},
     "output_type": "display_data"
    },
    {
     "name": "stdout",
     "output_type": "stream",
     "text": [
      "start..perform..\n",
      "start random ...\n",
      "{0: 0.91708048584976143, 1: 0.73565464136603409, 2: 0.89647260312338961, 3: 0.65001642501132761}\n"
     ]
    },
    {
     "name": "stderr",
     "output_type": "stream",
     "text": [
      "/Applications/Anaconda/anaconda/envs/py35/lib/python3.5/site-packages/matplotlib/axes/_axes.py:519: UserWarning: No labelled objects found. Use label='...' kwarg on individual plots.\n",
      "  warnings.warn(\"No labelled objects found. \"\n"
     ]
    },
    {
     "data": {
      "image/png": "[encoded data removed]",
      "text/plain": [
       "<matplotlib.figure.Figure at 0x11483d438>"
      ]
     },
     "metadata": {},
     "output_type": "display_data"
    },
    {
     "name": "stdout",
     "output_type": "stream",
     "text": [
      "Total runtime is  0:00:55.858639\n"
     ]
    }
   ],
   "source": [
    "\n",
    "#perform_evaluate function to run each model and plot roc curve on the fpr, tpr\n",
    "def performPlot_evaluate(fun, *args):\n",
    "    #fit Model\n",
    "    print(\"start..perform..\")\n",
    "    Y_predict = fun(*args)\n",
    "    \n",
    "    # Binarize the output\n",
    "    y_bin = label_binarize(Y_test, classes=[1, 2, 3, 4])\n",
    "\n",
    "    #Calculate AUC\n",
    "    fpr = dict()\n",
    "    tpr = dict()\n",
    "    roc_auc = dict()\n",
    "    for i in range(4):\n",
    "        fpr[i], tpr[i], _ = roc_curve(y_bin[:, i], Y_predict.iloc[:, i])\n",
    "        roc_auc[i] = auc(fpr[i], tpr[i])\n",
    "\n",
    "    print(roc_auc)\n",
    "    plotRoc(fpr, tpr)\n",
    "    return roc_auc\n",
    "\n",
    "\n",
    "startTime = datetime.now()\n",
    "print (\"Begin time is \",startTime)\n",
    "for i in [1,5,10]:\n",
    "    performrandom_evaluate(random,2*i)\n",
    "print (\"Total runtime is \",datetime.now() - startTime)\n",
    "\n"
   ]
  },
  {
   "cell_type": "markdown",
   "metadata": {},
   "source": [
    "### KNN"
   ]
  },
  {
   "cell_type": "code",
   "execution_count": 27,
   "metadata": {
    "collapsed": false
   },
   "outputs": [
    {
     "name": "stdout",
     "output_type": "stream",
     "text": [
      "Begin time is  2016-10-12 21:04:00.047597\n",
      "start..perform..\n",
      "start knn ...\n",
      "{0: 0.96814973574446694, 1: 0.89563655758060612, 2: 0.96052596569648907, 3: 0.82478307657453553}\n",
      "Total runtime is  0:01:36.762558\n"
     ]
    }
   ],
   "source": [
    "def knn(n_neighbors_):\n",
    "    print(\"start knn ...\")\n",
    "    clf = OneVsRestClassifier(KNeighborsClassifier(algorithm='auto', leaf_size=30, metric='minkowski',\n",
    "           metric_params=None, n_jobs=1, n_neighbors=n_neighbors_, p=2,\n",
    "           weights='uniform'))\n",
    "    clf.fit(X_train,Y_train)\n",
    "    Y_predict = clf.predict_proba(X_test)\n",
    "    return Y_predict\n",
    "\n",
    "startTime = datetime.now()\n",
    "print (\"Begin time is \",startTime)\n",
    "perform_evaluate(knn,420)\n",
    "print (\"Total runtime is \",datetime.now() - startTime)\n"
   ]
  },
  {
   "cell_type": "markdown",
   "metadata": {},
   "source": [
    "### RandomForest Classifier"
   ]
  },
  {
   "cell_type": "code",
   "execution_count": null,
   "metadata": {
    "collapsed": true
   },
   "outputs": [],
   "source": [
    "def random(_n_estimators):\n",
    "    print(\"start random ...\")\n",
    "    clf = OneVsRestClassifier(RandomForestClassifier(n_estimators = _n_estimators,random_state=5))\n",
    "    clf.fit(X_train,Y_train)\n",
    "    Y_predict = clf.predict_proba(X_test)\n",
    "    \n",
    "    return Y_predict"
   ]
  },
  {
   "cell_type": "markdown",
   "metadata": {},
   "source": [
    "### Logistic Regression"
   ]
  },
  {
   "cell_type": "code",
   "execution_count": null,
   "metadata": {
    "collapsed": true
   },
   "outputs": [],
   "source": [
    "\n",
    "def logreg():\n",
    "    print(\"start logistic reg ...\")\n",
    "    clf = LogisticRegression()\n",
    "    clf.fit(X_train,Y_train)\n",
    "    Y_predict = clf.predict_proba(X_test)\n",
    "    return Y_predict\n"
   ]
  },
  {
   "cell_type": "markdown",
   "metadata": {},
   "source": [
    "### Neural Network"
   ]
  },
  {
   "cell_type": "code",
   "execution_count": null,
   "metadata": {
    "collapsed": true
   },
   "outputs": [],
   "source": [
    "\n",
    "def neural_network(hidden_layer_sizes):\n",
    "    print(\"start neural net ...\")\n",
    "\n",
    "    clf = MLPClassifier(solver='lbfgs', alpha=1e-5,\n",
    "                     hidden_layer_sizes=(hidden_layer_sizes,), random_state=1)  # tried \n",
    "\n",
    "    clf.fit(X_train,Y_train)\n",
    "    Y_predict = clf.predict_proba(X_test)\n",
    "    return Y_predict"
   ]
  },
  {
   "cell_type": "markdown",
   "metadata": {},
   "source": [
    "### SVC"
   ]
  },
  {
   "cell_type": "code",
   "execution_count": null,
   "metadata": {
    "collapsed": true
   },
   "outputs": [],
   "source": [
    "def SVC(C=C,gamma=gamma):\n",
    "    print(\"start SVC ...\")\n",
    "    clf = svm.SVC(\n",
    "        C=C,                # **** Parameter            \n",
    "        cache_size=200,     # The size of the kernel cache (in MB).\n",
    "        class_weight=None, # Set the parameter C of class i to class_weight[i]*C for SVC\n",
    "        coef0=0.0,         # Independent term in kernel function. Only significant in ‘poly’ and ‘sigmoid’.\n",
    "        degree=3,          # **** Parameter   Degree of the polynomial kernel function (‘poly’); default = 3. Ignored by all other kernels.\n",
    "        gamma=gamma,      # Kernel coefficient for ‘rbf’, ‘poly’ and ‘sigmoid’; auto = 1/n_features\n",
    "        kernel='rbf',     # Specifies the kernel type to be used in the algorithm; default = 'rbf'  'linear', 'poly', 'rbf', 'sigmoid'\n",
    "        max_iter=-1,      # Hard limit on iterations within solver, or -1 for no limit; default = -1\n",
    "        probability=True, # Whether to enable probability estimates; default = False\n",
    "        random_state=None, # To set a random state for replicability\n",
    "        shrinking=True,   # Whether to use the shrinking heuristic; default = True\n",
    "        tol=0.001,        # Tolerance for stopping criterion; default = 0.001\n",
    "        verbose=False     # Enable verbose output; default = False\n",
    "    )\n",
    "\n",
    "    clf.fit(X_train,Y_train)\n",
    "    Y_predict = clf.predict_proba(X_test)\n",
    "    return Y_predict"
   ]
  },
  {
   "cell_type": "markdown",
   "metadata": {},
   "source": [
    "### Perform evaluate with average score output for 4 classes"
   ]
  },
  {
   "cell_type": "code",
   "execution_count": 18,
   "metadata": {
    "collapsed": false
   },
   "outputs": [
    {
     "name": "stdout",
     "output_type": "stream",
     "text": [
      "start..perform..\n",
      "start neural net ...\n",
      "{0: 0.97760892898387297, 1: 0.90747185346300319, 2: 0.9612552093836122, 3: 0.86300974173085632}\n",
      "CPU times: user 6min 13s, sys: 55.3 s, total: 7min 8s\n",
      "Wall time: 5min 24s\n"
     ]
    },
    {
     "data": {
      "text/plain": [
       "{0: 0.97760892898387297,\n",
       " 1: 0.90747185346300319,\n",
       " 2: 0.9612552093836122,\n",
       " 3: 0.86300974173085632}"
      ]
     },
     "execution_count": 18,
     "metadata": {},
     "output_type": "execute_result"
    }
   ],
   "source": [
    "\n",
    "\n",
    "def perform_evaluate(fun, *args):\n",
    "    #fit Model\n",
    "    print(\"start..perform..\")\n",
    "    Y_predict = fun(*args)\n",
    "    \n",
    "    # Binarize the output\n",
    "    y_bin = label_binarize(Y_test, classes=[1, 2, 3, 4])\n",
    "\n",
    "    #Calculate AUC\n",
    "    fpr = dict()\n",
    "    tpr = dict()\n",
    "    roc_auc = dict()\n",
    "    for i in range(4):\n",
    "        fpr[i], tpr[i], _ = roc_curve(y_bin[:, i], Y_predict[:, i])\n",
    "        roc_auc[i] = auc(fpr[i], tpr[i])\n",
    "        score = sum(roc_auc.values())/len(roc_auc)\n",
    "\n",
    "    print(roc_auc)\n",
    "    print(\"average score : \",score)\n",
    "    return roc_auc\n"
   ]
  },
  {
   "cell_type": "markdown",
   "metadata": {},
   "source": [
    "## Sample : Perform and Evaluate model : \n",
    "*** WARNING : Take long time to run ***\n",
    "- by using function and parameters allow us to adjust and easily rerun the model."
   ]
  },
  {
   "cell_type": "code",
   "execution_count": null,
   "metadata": {
    "collapsed": true
   },
   "outputs": [],
   "source": [
    "\n",
    "start_time = time.time()\n",
    "\n",
    "%time perform_evaluate(random,2)   #{0: 0.95755745500532141, 1: 0.94345356758244103, 2: 0.95754489510952012, 3: 0.935902875654121}\n",
    "                                     #--- 2.9770100116729736 seconds ---\n",
    "perform_evaluate(random,zero_df)\n",
    "perform_evaluate(random,median_df,5)  # {0: 0.9982521308236898, 1: 0.99652273206303477, 2: 0.99791378804250441, 3: 0.99512053825347679}\n",
    "                                       #--- 7.494149923324585 seconds ---\n",
    "perform_evaluate(random,median_df,50)  # {0: 1.0, 1: 1.0, 2: 1.0, 3: 1.0}\n",
    "                                       # --- 78.22237992286682 seconds ---   \n",
    "    \n",
    "perform_evaluate(random,mean_df,5)  #{0: 0.99833924590300338, 1: 0.99604780111208036, 2: 0.99806369204357537, 3: 0.99555991668734445}\n",
    "                                    #--- 7.500859975814819 seconds ---\n",
    "\n",
    "perform_evaluate(knn,zero_df)     #{0: 0.97897801558343589, 1: 0.93253620366304002, 2: 0.95956900499412578, 3: 0.90881167952825881}\n",
    "                                  #--- 861.4793829917908 seconds ---\n",
    "perform_evaluate(knn,median_df)\n",
    "perform_evaluate(knn,mean_df)\n",
    "\n",
    "perform_evaluate(logreg,median_df) # {0: 0.97269143043321871, 1: 0.90720546399653845, 2: 0.96431666118072079, 3: 0.86457219682998632}\n",
    "                                   #--- 12.327923059463501 seconds ---\n",
    "            \n",
    "perform_evaluate(SVC,median_df) # {0: 0.0, 1: 0.0, 2: 0.0, 3: 0.0}\n",
    "                                #--- 1765.4267420768738 seconds --- clf = svm.SVC(kernel='rbf', gamma=10,probability=True)\n",
    "\n",
    "perform_evaluate(SVC,median_df) # {0: 0.0, 1: 0.0, 2: 0.0, 3: 0.0}\n",
    "                                #--- 2026.6871221065521 seconds ---\n",
    "    \n",
    "print(\"--- %s seconds ---\" % (time.time() - start_time))  \n",
    "\n",
    "%time perform_evaluate(random,2) # 2.68 {0: 0.68575227911905756, 1: 0.55929314899539151, 2: 0.6764549164258028, 3: 0.54278375623017672}\n",
    "%time perform_evaluate(knn)     # 1 min42s {0: 0.92566063883265626, 1: 0.68605131794961538, 2: 0.88637487116578173, 3: 0.6310455369279564}\n",
    "%time perform_evaluate(SVC)     # 19 mins 13s {0: 0.9556597557164791, 1: 0.79592448144536943, 2: 0.93129390166028114, 3: 0.74194154961486192}\n",
    "%time perform_evaluate(logreg)  # 4.12 s {0: 0.96586823906634245, 1: 0.88281123694759034, 2: 0.9581456834935359, 3: 0.83349342999546905}\n"
   ]
  },
  {
   "cell_type": "markdown",
   "metadata": {},
   "source": [
    "### Using Range - grib to help find best model"
   ]
  },
  {
   "cell_type": "code",
   "execution_count": null,
   "metadata": {
    "collapsed": true
   },
   "outputs": [],
   "source": [
    "\n",
    "k_range = list(range(1, 26))\n",
    ",40,50,60,70,80,90,\n",
    "\n",
    "scores = []\n",
    "for k in k_range:\n",
    "    knn = KNeighborsClassifier(n_neighbors=k)\n",
    "    knn.fit(X_train, y_train)\n",
    "    y_pred = knn.predict(X_test)\n",
    "    scores.append(metrics.accuracy_score(y_test, y_pred))\n",
    "\n",
    "knn_scores = []\n",
    "k_range = [416,417,418,419]   # winner 420 0.9427807072   {0: 0.96873259242150456, 1: 0.8981012025300632, 2: 0.96150832661154806, 3: 0.8317121658359764}\n",
    "k_range = list(range(420, 430))\n",
    "for i in k_range:\n",
    "    print(\"i=\",i)\n",
    "    %time knn_scores.append(perform_evaluate(knn,i))\n",
    "\n",
    "%time perform_evaluate(neural_network) # {0: 0.92266279907069004, 1: 0.87447352850487936, 2: 0.93218628867827291, 3: 0.79489805165382865}\n",
    "%time perform_evaluate(knn,420)\n",
    "%time perform_evaluate(neural_network) "
   ]
  },
  {
   "cell_type": "markdown",
   "metadata": {},
   "source": [
    "## Grid Search for best model: "
   ]
  },
  {
   "cell_type": "code",
   "execution_count": null,
   "metadata": {
    "collapsed": false
   },
   "outputs": [
    {
     "name": "stdout",
     "output_type": "stream",
     "text": [
      "start..MLP adam. with std test \n",
      "start..MLP with solver sgd\n",
      "start..MLP with learning constant\n"
     ]
    }
   ],
   "source": [
    "start_time = time.time()\n",
    "print(\"start..MLP  with std test \")\n",
    "best_score = 0\n",
    "\n",
    "for solver_ in ['sgd']:   #'adam','sgd','lbfgs'\n",
    "    print(\"start..MLP with solver\", solver_)\n",
    "    for learning_rate_ in ['constant', 'invscaling', 'adaptive']:  #activation : {‘identity’, ‘logistic’, ‘tanh’, ‘relu’}\n",
    "        # for each combination of parameters, train \n",
    "        print(\"start..MLP with learning\", learning_rate_)\n",
    "        \n",
    "        clf = MLPClassifier( solver=solver_, alpha=1e-5,learning_rate =learning_rate_,\n",
    "                         hidden_layer_sizes=(14771,), random_state=1)\n",
    "        \n",
    "        clf.fit(X_train,Y_train)\n",
    "        Y_predict = clf.predict_proba(X_test)\n",
    "        print(\"start..perform..\")\n",
    "\n",
    "        # Binarize the output\n",
    "        y_bin = label_binarize(Y_test, classes=[1, 2, 3, 4])\n",
    "\n",
    "        #Calculate AUC\n",
    "        fpr = dict()\n",
    "        tpr = dict()\n",
    "        roc_auc = dict()\n",
    "        for i in range(4):\n",
    "            fpr[i], tpr[i], _ = roc_curve(y_bin[:, i], Y_predict[:, i])\n",
    "            roc_auc[i] = auc(fpr[i], tpr[i])\n",
    "            \n",
    "        avg_score = sum(roc_auc.values())/len(roc_auc)\n",
    "        print(roc_auc)\n",
    "        print(\"average score: = \", avg_score)\n",
    "\n",
    "        print(\"--- %s seconds ---\" % (time.time() - start_time))\n",
    "        \n",
    "        #  store the high score and its parameters\n",
    "        if avg_score > best_score:\n",
    "            best_score = avg_score\n",
    "            best_parameters = {'solver': solver_, 'learning_rate': learning_rate_}\n",
    "\n",
    "\n",
    "print(\"Best score on validation set: {:.2f}\".format(best_score))\n",
    "print(\"Best parameters: \", best_parameters)\n",
    "print(\"Test set score with best parameters: {:.2f}\".format(test_score))\n"
   ]
  },
  {
   "cell_type": "markdown",
   "metadata": {},
   "source": [
    "## Grid Search for different parameter grid"
   ]
  },
  {
   "cell_type": "code",
   "execution_count": 38,
   "metadata": {
    "collapsed": false
   },
   "outputs": [
    {
     "name": "stderr",
     "output_type": "stream",
     "text": [
      "/Applications/Anaconda/anaconda/envs/py35/lib/python3.5/site-packages/sklearn/neural_network/multilayer_perceptron.py:563: ConvergenceWarning: Stochastic Optimizer: Maximum iterations reached and the optimization hasn't converged yet.\n",
      "  % (), ConvergenceWarning)\n",
      "/Applications/Anaconda/anaconda/envs/py35/lib/python3.5/site-packages/sklearn/neural_network/multilayer_perceptron.py:563: ConvergenceWarning: Stochastic Optimizer: Maximum iterations reached and the optimization hasn't converged yet.\n",
      "  % (), ConvergenceWarning)\n",
      "/Applications/Anaconda/anaconda/envs/py35/lib/python3.5/site-packages/sklearn/neural_network/multilayer_perceptron.py:563: ConvergenceWarning: Stochastic Optimizer: Maximum iterations reached and the optimization hasn't converged yet.\n",
      "  % (), ConvergenceWarning)\n",
      "/Applications/Anaconda/anaconda/envs/py35/lib/python3.5/site-packages/sklearn/neural_network/multilayer_perceptron.py:563: ConvergenceWarning: Stochastic Optimizer: Maximum iterations reached and the optimization hasn't converged yet.\n",
      "  % (), ConvergenceWarning)\n",
      "/Applications/Anaconda/anaconda/envs/py35/lib/python3.5/site-packages/sklearn/neural_network/multilayer_perceptron.py:563: ConvergenceWarning: Stochastic Optimizer: Maximum iterations reached and the optimization hasn't converged yet.\n",
      "  % (), ConvergenceWarning)\n",
      "/Applications/Anaconda/anaconda/envs/py35/lib/python3.5/site-packages/sklearn/neural_network/multilayer_perceptron.py:563: ConvergenceWarning: Stochastic Optimizer: Maximum iterations reached and the optimization hasn't converged yet.\n",
      "  % (), ConvergenceWarning)\n",
      "/Applications/Anaconda/anaconda/envs/py35/lib/python3.5/site-packages/sklearn/neural_network/multilayer_perceptron.py:563: ConvergenceWarning: Stochastic Optimizer: Maximum iterations reached and the optimization hasn't converged yet.\n",
      "  % (), ConvergenceWarning)\n"
     ]
    },
    {
     "name": "stdout",
     "output_type": "stream",
     "text": [
      "0.771768316072\n"
     ]
    },
    {
     "ename": "NotFittedError",
     "evalue": "This MLPClassifier instance is not fitted yet. Call 'fit' with appropriate arguments before using this method.",
     "output_type": "error",
     "traceback": [
      "\u001b[0;31m---------------------------------------------------------------------------\u001b[0m",
      "\u001b[0;31mNotFittedError\u001b[0m                            Traceback (most recent call last)",
      "\u001b[0;32m<ipython-input-38-cf18db4c1c23>\u001b[0m in \u001b[0;36m<module>\u001b[0;34m()\u001b[0m\n\u001b[1;32m     11\u001b[0m \u001b[0mYPred\u001b[0m \u001b[0;34m=\u001b[0m \u001b[0mdt_clf\u001b[0m\u001b[0;34m.\u001b[0m\u001b[0mpredict\u001b[0m\u001b[0;34m(\u001b[0m\u001b[0mX_test\u001b[0m\u001b[0;34m)\u001b[0m\u001b[0;34m\u001b[0m\u001b[0m\n\u001b[1;32m     12\u001b[0m \u001b[0mprint\u001b[0m \u001b[0;34m(\u001b[0m\u001b[0msm\u001b[0m\u001b[0;34m.\u001b[0m\u001b[0maccuracy_score\u001b[0m\u001b[0;34m(\u001b[0m\u001b[0mY_test\u001b[0m\u001b[0;34m,\u001b[0m\u001b[0mYPred\u001b[0m\u001b[0;34m)\u001b[0m\u001b[0;34m)\u001b[0m\u001b[0;34m\u001b[0m\u001b[0m\n\u001b[0;32m---> 13\u001b[0;31m \u001b[0mY_predict\u001b[0m \u001b[0;34m=\u001b[0m \u001b[0mclf\u001b[0m\u001b[0;34m.\u001b[0m\u001b[0mpredict_proba\u001b[0m\u001b[0;34m(\u001b[0m\u001b[0mX_test\u001b[0m\u001b[0;34m)\u001b[0m\u001b[0;34m\u001b[0m\u001b[0m\n\u001b[0m\u001b[1;32m     14\u001b[0m \u001b[0my_bin\u001b[0m \u001b[0;34m=\u001b[0m \u001b[0mlabel_binarize\u001b[0m\u001b[0;34m(\u001b[0m\u001b[0mY_test\u001b[0m\u001b[0;34m,\u001b[0m \u001b[0mclasses\u001b[0m\u001b[0;34m=\u001b[0m\u001b[0;34m[\u001b[0m\u001b[0;36m1\u001b[0m\u001b[0;34m,\u001b[0m \u001b[0;36m2\u001b[0m\u001b[0;34m,\u001b[0m \u001b[0;36m3\u001b[0m\u001b[0;34m,\u001b[0m \u001b[0;36m4\u001b[0m\u001b[0;34m]\u001b[0m\u001b[0;34m)\u001b[0m\u001b[0;34m\u001b[0m\u001b[0m\n\u001b[1;32m     15\u001b[0m \u001b[0;34m\u001b[0m\u001b[0m\n",
      "\u001b[0;32m/Applications/Anaconda/anaconda/envs/py35/lib/python3.5/site-packages/sklearn/neural_network/multilayer_perceptron.py\u001b[0m in \u001b[0;36mpredict_proba\u001b[0;34m(self, X)\u001b[0m\n\u001b[1;32m   1013\u001b[0m             \u001b[0mmodel\u001b[0m\u001b[0;34m,\u001b[0m \u001b[0mwhere\u001b[0m \u001b[0mclasses\u001b[0m \u001b[0mare\u001b[0m \u001b[0mordered\u001b[0m \u001b[0;32mas\u001b[0m \u001b[0mthey\u001b[0m \u001b[0mare\u001b[0m \u001b[0;32min\u001b[0m\u001b[0;31m \u001b[0m\u001b[0;31m`\u001b[0m\u001b[0mself\u001b[0m\u001b[0;34m.\u001b[0m\u001b[0mclasses_\u001b[0m\u001b[0;31m`\u001b[0m\u001b[0;34m.\u001b[0m\u001b[0;34m\u001b[0m\u001b[0m\n\u001b[1;32m   1014\u001b[0m         \"\"\"\n\u001b[0;32m-> 1015\u001b[0;31m         \u001b[0mcheck_is_fitted\u001b[0m\u001b[0;34m(\u001b[0m\u001b[0mself\u001b[0m\u001b[0;34m,\u001b[0m \u001b[0;34m\"coefs_\"\u001b[0m\u001b[0;34m)\u001b[0m\u001b[0;34m\u001b[0m\u001b[0m\n\u001b[0m\u001b[1;32m   1016\u001b[0m         \u001b[0my_pred\u001b[0m \u001b[0;34m=\u001b[0m \u001b[0mself\u001b[0m\u001b[0;34m.\u001b[0m\u001b[0m_predict\u001b[0m\u001b[0;34m(\u001b[0m\u001b[0mX\u001b[0m\u001b[0;34m)\u001b[0m\u001b[0;34m\u001b[0m\u001b[0m\n\u001b[1;32m   1017\u001b[0m \u001b[0;34m\u001b[0m\u001b[0m\n",
      "\u001b[0;32m/Applications/Anaconda/anaconda/envs/py35/lib/python3.5/site-packages/sklearn/utils/validation.py\u001b[0m in \u001b[0;36mcheck_is_fitted\u001b[0;34m(estimator, attributes, msg, all_or_any)\u001b[0m\n\u001b[1;32m    688\u001b[0m     \u001b[0;32mif\u001b[0m \u001b[0;32mnot\u001b[0m \u001b[0mall_or_any\u001b[0m\u001b[0;34m(\u001b[0m\u001b[0;34m[\u001b[0m\u001b[0mhasattr\u001b[0m\u001b[0;34m(\u001b[0m\u001b[0mestimator\u001b[0m\u001b[0;34m,\u001b[0m \u001b[0mattr\u001b[0m\u001b[0;34m)\u001b[0m \u001b[0;32mfor\u001b[0m \u001b[0mattr\u001b[0m \u001b[0;32min\u001b[0m \u001b[0mattributes\u001b[0m\u001b[0;34m]\u001b[0m\u001b[0;34m)\u001b[0m\u001b[0;34m:\u001b[0m\u001b[0;34m\u001b[0m\u001b[0m\n\u001b[1;32m    689\u001b[0m         \u001b[0;31m# FIXME NotFittedError_ --> NotFittedError in 0.19\u001b[0m\u001b[0;34m\u001b[0m\u001b[0;34m\u001b[0m\u001b[0m\n\u001b[0;32m--> 690\u001b[0;31m         \u001b[0;32mraise\u001b[0m \u001b[0m_NotFittedError\u001b[0m\u001b[0;34m(\u001b[0m\u001b[0mmsg\u001b[0m \u001b[0;34m%\u001b[0m \u001b[0;34m{\u001b[0m\u001b[0;34m'name'\u001b[0m\u001b[0;34m:\u001b[0m \u001b[0mtype\u001b[0m\u001b[0;34m(\u001b[0m\u001b[0mestimator\u001b[0m\u001b[0;34m)\u001b[0m\u001b[0;34m.\u001b[0m\u001b[0m__name__\u001b[0m\u001b[0;34m}\u001b[0m\u001b[0;34m)\u001b[0m\u001b[0;34m\u001b[0m\u001b[0m\n\u001b[0m\u001b[1;32m    691\u001b[0m \u001b[0;34m\u001b[0m\u001b[0m\n\u001b[1;32m    692\u001b[0m \u001b[0;34m\u001b[0m\u001b[0m\n",
      "\u001b[0;31mNotFittedError\u001b[0m: This MLPClassifier instance is not fitted yet. Call 'fit' with appropriate arguments before using this method."
     ]
    }
   ],
   "source": [
    "param_grid = {\"hidden_layer_sizes\": [1000, 10000],\n",
    "               \"activation\": [\"relu\", \"logistic\"],\n",
    "              \"solver\": [\"sgd\"],\n",
    "              \"alpha\":[1e-5]}\n",
    "\n",
    "clf=MLPClassifier(random_state=1)\n",
    "dt_clf = grid_search.GridSearchCV(clf, param_grid, cv=3, scoring = 'accuracy')\n",
    "dt_clf.fit(X_train,Y_train)\n",
    "\n",
    "\n",
    "YPred = dt_clf.predict(X_test)\n",
    "print (sm.accuracy_score(Y_test,YPred))\n",
    "Y_predict = clf.predict_proba(X_test)\n",
    "y_bin = label_binarize(Y_test, classes=[1, 2, 3, 4])\n",
    "\n",
    "#Calculate AUC\n",
    "fpr = dict()\n",
    "tpr = dict()\n",
    "roc_auc = dict()\n",
    "for i in range(4):\n",
    "    fpr[i], tpr[i], _ = roc_curve(y_bin[:, i], Y_predict[:, i])\n",
    "    roc_auc[i] = auc(fpr[i], tpr[i])\n",
    "\n",
    "print(roc_auc)\n"
   ]
  },
  {
   "cell_type": "markdown",
   "metadata": {},
   "source": [
    "### Use stardized training data with best model"
   ]
  },
  {
   "cell_type": "code",
   "execution_count": 173,
   "metadata": {
    "collapsed": false
   },
   "outputs": [
    {
     "name": "stdout",
     "output_type": "stream",
     "text": [
      "start..MLP adam. with std test \n",
      "start..perform..\n",
      "{0: 0.98173647813268494, 1: 0.91655874730201581, 2: 0.96510763258721521, 3: 0.87247734481196182}\n",
      "average score: =  0.933970050708\n",
      "--- 366.88647198677063 seconds ---\n"
     ]
    }
   ],
   "source": [
    "start_time = time.time()\n",
    "\n",
    "print(\"start..MLP adam. with std test \")\n",
    "clf = MLPClassifier( solver='adam', alpha=1e-5, #sgd  lbfgs   activation : {‘identity’, ‘logistic’, ‘tanh’, ‘relu’},\n",
    "                 hidden_layer_sizes=(14771,), random_state=1)\n",
    "\n",
    "clf.fit(X_train,Y_train)\n",
    "Y_predict = clf.predict_proba(X_test)\n",
    "print(\"start..perform..\")\n",
    "\n",
    "# Binarize the output\n",
    "y_bin = label_binarize(Y_test, classes=[1, 2, 3, 4])\n",
    "\n",
    "#Calculate AUC\n",
    "fpr = dict()\n",
    "tpr = dict()\n",
    "roc_auc = dict()\n",
    "for i in range(4):\n",
    "    fpr[i], tpr[i], _ = roc_curve(y_bin[:, i], Y_predict[:, i])\n",
    "    roc_auc[i] = auc(fpr[i], tpr[i])\n",
    "\n",
    "print(roc_auc)\n",
    "print(\"average score: = \", sum(roc_auc.values())/len(roc_auc))\n",
    "\n",
    "print(\"--- %s seconds ---\" % (time.time() - start_time))"
   ]
  },
  {
   "cell_type": "markdown",
   "metadata": {},
   "source": [
    "### Use 95% percentile features selected with best model"
   ]
  },
  {
   "cell_type": "code",
   "execution_count": 149,
   "metadata": {
    "collapsed": false
   },
   "outputs": [
    {
     "name": "stdout",
     "output_type": "stream",
     "text": [
      "start..selected 95% features.\n",
      "start..perform..\n",
      "{0: 0.9825564175373287, 1: 0.91507954365525812, 2: 0.96511393426093961, 3: 0.87021182600815583}\n",
      "--- 326.72764897346497 seconds ---\n"
     ]
    }
   ],
   "source": [
    "start_time = time.time()\n",
    "\n",
    "print(\"start..selected 95% features.\")\n",
    "clf = MLPClassifier( solver='adam', alpha=1e-5,    #sgd  lbfgs   activation : {‘identity’, ‘logistic’, ‘tanh’, ‘relu’},\n",
    "                 hidden_layer_sizes=(14771,), random_state=1)\n",
    "\n",
    "clf.fit(X_train_selected,Y_train)\n",
    "Y_predict = clf.predict_proba(X_test_selected)\n",
    "print(\"start..perform..\")\n",
    "\n",
    "# Binarize the output\n",
    "y_bin = label_binarize(Y_test, classes=[1, 2, 3, 4])\n",
    "\n",
    "#Calculate AUC\n",
    "fpr = dict()\n",
    "tpr = dict()\n",
    "roc_auc = dict()\n",
    "for i in range(4):\n",
    "    fpr[i], tpr[i], _ = roc_curve(y_bin[:, i], Y_predict[:, i])\n",
    "    roc_auc[i] = auc(fpr[i], tpr[i])\n",
    "\n",
    "print(roc_auc)\n",
    "\n",
    "print(\"--- %s seconds ---\" % (time.time() - start_time))"
   ]
  },
  {
   "cell_type": "markdown",
   "metadata": {},
   "source": [
    "### Use model-based features selected with best model"
   ]
  },
  {
   "cell_type": "code",
   "execution_count": 170,
   "metadata": {
    "collapsed": false
   },
   "outputs": [
    {
     "name": "stdout",
     "output_type": "stream",
     "text": [
      "start..selected model features.\n",
      "start..perform..\n",
      "{0: 0.98173647813268494, 1: 0.91655874730201581, 2: 0.96510763258721521, 3: 0.87247734481196182}\n",
      "average score: =  0.933970050708\n",
      "--- 342.8405849933624 seconds ---\n"
     ]
    }
   ],
   "source": [
    "start_time = time.time()\n",
    "\n",
    "print(\"start..selected model features.\")\n",
    "clf = MLPClassifier( solver='adam', alpha=1e-5,    #sgd  lbfgs   activation : {‘identity’, ‘logistic’, ‘tanh’, ‘relu’},\n",
    "                 hidden_layer_sizes=(14771,), random_state=1)\n",
    "\n",
    "clf.fit(X_train_l1,Y_train)\n",
    "Y_predict = clf.predict_proba(X_test_l1)\n",
    "print(\"start..perform..\")\n",
    "\n",
    "# Binarize the output\n",
    "y_bin = label_binarize(Y_test, classes=[1, 2, 3, 4])\n",
    "\n",
    "#Calculate AUC\n",
    "fpr = dict()\n",
    "tpr = dict()\n",
    "roc_auc = dict()\n",
    "for i in range(4):\n",
    "    fpr[i], tpr[i], _ = roc_curve(y_bin[:, i], Y_predict[:, i])\n",
    "    roc_auc[i] = auc(fpr[i], tpr[i])\n",
    "\n",
    "print(roc_auc)\n",
    "print(\"average score: = \", sum(roc_auc.values())/len(roc_auc))\n",
    "\n",
    "print(\"--- %s seconds ---\" % (time.time() - start_time))"
   ]
  },
  {
   "cell_type": "markdown",
   "metadata": {},
   "source": [
    "## Instantiate best model found\n",
    "- We found our best model is MLPClassifier by using grib search select get best optimal model at 14771 hidden layers with one dimension and evaluate model with best features being all features having solver = 'adam'"
   ]
  },
  {
   "cell_type": "code",
   "execution_count": 26,
   "metadata": {
    "collapsed": false
   },
   "outputs": [
    {
     "name": "stdout",
     "output_type": "stream",
     "text": [
      "start ..\n"
     ]
    },
    {
     "data": {
      "text/plain": [
       "MLPClassifier(activation='relu', alpha=1e-05, batch_size='auto', beta_1=0.9,\n",
       "       beta_2=0.999, early_stopping=False, epsilon=1e-08,\n",
       "       hidden_layer_sizes=(14771,), learning_rate='constant',\n",
       "       learning_rate_init=0.001, max_iter=200, momentum=0.9,\n",
       "       nesterovs_momentum=True, power_t=0.5, random_state=1, shuffle=True,\n",
       "       solver='adam', tol=0.0001, validation_fraction=0.1, verbose=False,\n",
       "       warm_start=False)"
      ]
     },
     "execution_count": 26,
     "metadata": {},
     "output_type": "execute_result"
    }
   ],
   "source": [
    "print(\"start ..\")\n",
    "\n",
    "clf = MLPClassifier( solver='adam', alpha=1e-5,    \n",
    "                 hidden_layer_sizes=(14771,), random_state=1)\n",
    "\n",
    "clf.fit(X_train,Y_train)\n"
   ]
  },
  {
   "cell_type": "markdown",
   "metadata": {},
   "source": [
    "## K-fold cross validation"
   ]
  },
  {
   "cell_type": "code",
   "execution_count": 31,
   "metadata": {
    "collapsed": false
   },
   "outputs": [
    {
     "name": "stdout",
     "output_type": "stream",
     "text": [
      "\n",
      "Cross-validation 5 fold scores for 0 :\n",
      "0.953510677808041\n",
      "\n",
      "Cross-validation 5 fold scores for 1 :\n",
      "0.8313751463090112\n",
      "\n",
      "Cross-validation 5 fold scores for 2 :\n",
      "0.9412866980800396\n",
      "\n",
      "Cross-validation 5 fold scores for 3 :\n",
      "0.7673225935188038\n"
     ]
    }
   ],
   "source": [
    "# Binarize the output\n",
    "y_bin = label_binarize(Y_test, classes=[1, 2, 3, 4])\n",
    "\n",
    "kfold = KFold(n_splits=5, shuffle=True, random_state=0)\n",
    "for i in range(4):\n",
    "    print(\"\\nCross-validation 5 fold scores for {} :\\n{}\"\\\n",
    "          .format(i,cross_val_score(clf, X_test, y_bin[:,i], cv=kfold, scoring='roc_auc').mean()))"
   ]
  },
  {
   "cell_type": "markdown",
   "metadata": {},
   "source": [
    "## File Submission"
   ]
  },
  {
   "cell_type": "code",
   "execution_count": 35,
   "metadata": {
    "collapsed": true
   },
   "outputs": [],
   "source": [
    "\n",
    "Xtest = pd.read_csv(\"testData.txt\",sep=\"\\t\",header=None)\n",
    "\n",
    "Xtest = Xtest.fillna(Xtest.median())      # Use median for missing as train dataset\n",
    "std_scale = StandardScaler().fit(Xtest)   # Then standarize data as train dataset \n",
    "Xtest = std_scale.transform(Xtest)\n",
    "\n",
    "y_final_prob = clf.predict_proba(Xtest)\n",
    "y_final_label = clf.predict(Xtest)\n",
    "\n",
    "sample = pd.DataFrame(np.hstack([y_final_prob.round(5),y_final_label.reshape(y_final_prob.shape[0],1)]))\n",
    "sample.columns = [\"prob1\",\"prob2\",\"prob3\",\"prob4\",\"label\"]\n",
    "sample.label = sample.label.astype(int)\n",
    "\n",
    "#Submit this file to dropbox\n",
    "sample.to_csv(\"Piyawan_Ayada_final_oct12_.csv\",sep=\"\\t\" ,index=False,header=None)"
   ]
  }
 ],
 "metadata": {
  "kernelspec": {
   "display_name": "Python 3",
   "language": "python",
   "name": "python3"
  },
  "language_info": {
   "codemirror_mode": {
    "name": "ipython",
    "version": 3
   },
   "file_extension": ".py",
   "mimetype": "text/x-python",
   "name": "python",
   "nbconvert_exporter": "python",
   "pygments_lexer": "ipython3",
   "version": "3.5.1"
  }
 },
 "nbformat": 4,
 "nbformat_minor": 0
}
